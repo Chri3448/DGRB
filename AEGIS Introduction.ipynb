{
 "cells": [
  {
   "cell_type": "code",
   "execution_count": null,
   "id": "7cc126ef-9e08-469f-9b4b-f5fc97e43c82",
   "metadata": {},
   "outputs": [],
   "source": [
    "from IPython.core.display import Image, display\n",
    "display(Image(url='https://www.greekmythology.com/images/mythology/aegis_228.jpg', width=200, unconfined=True))"
   ]
  },
  {
   "cell_type": "markdown",
   "id": "f8456125-3c28-49cc-8534-ca0c792d39da",
   "metadata": {},
   "source": [
    "AEGIS: Astrophysical Event Generator for Integration with Simulation-based inference\n",
    "\n",
    "Make sure you're working with a kernal that has healpy, astropy, and sbi installed.\n",
    "\n",
    "Let's get started generating some photon maps with an AEGIS object. First, let's import some needed modules."
   ]
  },
  {
   "cell_type": "code",
   "execution_count": null,
   "id": "46022e43-093c-4215-9471-751d7d64fb72",
   "metadata": {},
   "outputs": [],
   "source": [
    "import aegis\n",
    "import numpy as np\n",
    "import healpy as hp\n",
    "import pickle as pk\n",
    "from astropy import units as u\n",
    "from astropy import constants as c\n",
    "import matplotlib.pyplot as plt\n",
    "from os import listdir\n",
    "import os\n",
    "import sys\n",
    "from sbi.inference import SNLE, SNPE, prepare_for_sbi, simulate_for_sbi\n",
    "from sbi import utils as utils\n",
    "from sbi import analysis as analysis\n",
    "from sbi.inference.base import infer\n",
    "from getdist import plots, MCSamples\n",
    "\n",
    "%matplotlib inline"
   ]
  },
  {
   "cell_type": "markdown",
   "id": "d0d6bc5a-05e8-45fb-8cab-8d64f4f64575",
   "metadata": {},
   "source": [
    "Now, let's initialize an AEGIS. First, we must define a few parameters that control how the AEGIS will generate sources and photons."
   ]
  },
  {
   "cell_type": "code",
   "execution_count": null,
   "id": "00da8369-998c-4f3b-b333-857fa1b90550",
   "metadata": {},
   "outputs": [],
   "source": [
    "parameter_range = [[], []]\n",
    "abundance_luminosity_and_spectrum_list = []\n",
    "source_class_list = []\n",
    "parameter_names = []\n",
    "energy_range = [2000, 100000] #MeV\n",
    "energy_range_gen = [energy_range[0]*0.5, energy_range[1]*1.5]\n",
    "luminosity_range = 10.0**np.array([30, 37])\n",
    "max_radius = 8.5 + 20*2 #kpc\n",
    "exposure = 2000*10*0.2 #cm^2 yr\n",
    "flux_cut = 1e-9 #photons/cm^2/s\n",
    "angular_cut = np.pi #10*u.deg.to('rad') #degrees\n",
    "angular_cut_gen = angular_cut*1.5\n",
    "lat_cut = 0 #2*u.deg.to('rad') #degrees\n",
    "lat_cut_gen = lat_cut*0.5"
   ]
  },
  {
   "cell_type": "code",
   "execution_count": null,
   "id": "ae6f0539-2977-49b1-a31c-1b7b8917bd79",
   "metadata": {},
   "outputs": [],
   "source": [
    "my_AEGIS = aegis.aegis(abundance_luminosity_and_spectrum_list, source_class_list, parameter_range, energy_range, luminosity_range, max_radius, exposure, angular_cut, lat_cut, flux_cut, verbose = False)\n",
    "my_AEGIS.angular_cut_gen, my_AEGIS.lat_cut_gen, my_AEGIS.Emin_gen, my_AEGIS.Emax_gen = angular_cut_gen, lat_cut_gen, energy_range_gen[0], energy_range_gen[1]"
   ]
  },
  {
   "cell_type": "raw",
   "id": "3f92f013-ae81-4974-b685-790f9b449217",
   "metadata": {},
   "source": [
    "Next, let's add a source to the AEGIS.\n",
    "\n",
    "Sources are generally input as a set of user-defined functions that determine their abundance in space, luminosity, and spectra. These functions are added to a list called the als, which is in turn added to the AEGIS object. There are a few different types of sources we can add to the AEGIS. Each of these will have different requirements for their user-defined als. All functions in the als should accept a list of model parameters as an input. The currently implemented types are described below.\r\n",
    "\r\n",
    "independent_spherical_multi_specta\n",
    ":\r\n",
    "Independent and spherical refer to sources with abundance functions dN/dV of the form R(r, params)Θ(θ, params)Φ(φ, params).\r\n",
    "The luminosity function should return the distribution function of luminosities dN/dL and have the form L(l, params).\r\n",
    "Multi-spectra refers to this source type having a distribution function for the spectrum of each realization of the source type. So, all of the sources of this type in any given simulation could have different spectra. The spectral function should be of the form S(e, num_spectra, params), which should internally pull from some distribution to produce num_spectra different spectra of the form dN/dE. S should return a numpy array of dimensions (number of spectra)X(number of energy values).\r\n",
    "The als of this source type should be of the form [(R, Θ, Φ), L, S].\r\n",
    "\r\n",
    "independent_spherical_sngle_sp\n",
    "ectrum:\r\n",
    "Independent and spherical refer to sources with abundance functions dN/dV of the form R(r, params)Θ(θ, params)Φ(φ, params).\r\n",
    "The luminosity function should return the distribution function of luminosities dN/dL and have the form L(l, params).\r\n",
    "Single spectrum refers to all realizations of this type having an identical spectrum. The spectral function dN/dE should be of the form S(e, params) and return a numpy array of length (number of energy values).\r\n",
    "The als of this source type should be of the form [(R, Θ, Φ), L, S].\r\n",
    "\r\n",
    "independent_cylindrical_multi_spectra:\r\n",
    "Independent and cylindrical refer to sources with abundance functions dN/dV of the form R(r, params)Z(z, params)Φ(φ, params).\r\n",
    "The luminosity function should return the distribution function of luminosities dN/dL and have the form L(l, params).\r\n",
    "Multi-spectra refers to this source type having a distribution function for the spectrum of each realization of the source type. So, all of the sources of this type in any given simulation could have different spectra. The spectral function should be of the form S(e, num_spectra, params), which should internally pull from some distribution to produce num_spectra different spectra of the form dN/dE. S should return a numpy array of dimensions (number of spectra)X(number of energy values).\r\n",
    "The als of this source type should be of the form [(R, Z, Φ), L, S].\r\n",
    "\r\n",
    "independent_cylindrical_single_spectrum:\r\n",
    "Independent and cylindrical refer to sources with abundance functions dN/dV of the form R(r, params)Z(z, params)Φ(φ, params).\r\n",
    "The luminosity function should return the distribution function of luminosities dN/dL and have the form L(l, params).\r\n",
    "Single spectrum refers to all realizations of this type having an identical spectrum. The spectral function dN/dE should be of the form S(e, params) and return a numpy array of length (number of energy values).\r\n",
    "The als of this source type should be of the form [(R, Z, Φ), L, S].\r\n",
    "\r\n",
    "isotropic_diffuse:\r\n",
    "A truly isotropic and diffuse source can be defined by a single spectral function dN/dE of the form S(e, params). This function should be normalized to (number of photons)/s/cm^2 over the energy range.\r\n",
    "The als of this source type should be of the form [S].\r\n",
    "\r\n",
    "healpix_map:\r\n",
    "For healpy documentation see https://healpix.sourceforge.io/ and https://healpy.readthedocs.io/en/latest/\r\n",
    "Any pixelated map can be defined by a single function H(params) that returns the 4 values (map_vals, map_E, map_i, N_side).\r\n",
    "map_vals is a 2d numpy array of fluxes in pixel-energy bins as dN/dE/s/cm^2.\r\n",
    "map_E is a 1d numpy array of the energies of each energy bin.\r\n",
    "map_i is a 1d numpy array of the pixel indices of each pixel.\r\n",
    "N_side value that is related to the number of pixels.\r\n",
    "The reason for including map_i is because not all pixels need to be included in the map, and map_i keeps track of their location on the sky. For instance, if a map that masked everything 10 degrees above and below the galactic plane is used, photons would only be generated outside the mask. This is useful for high N_side maps when the region of interest is small.\r\n",
    "The als of this source type should be of the form [H].\r\n",
    "\r\n",
    "isotropic_faint_multi_spectra:\r\n",
    "Isotropic refers to the abundance distribution having no angular dependance. Faint refers to sources with a low probability of a single photon hitting the detector. For this source type, the luminosity is allowed to depend on the radius. The abundance and luminos^2ity are determined by a single function dN/dRdL of the form RL(r, l, params). The benefit of this is that for a given (r, l) pair, the expected flux is known before source generation. For numerous but faint sources, this allows previously intractable source generation to become feasible. Sources are generated normally if the probability of getting 1 photon per source is greater than a parameter ε. Below this probability, the distribution of sources that either give 0 or 1 photon(s) is treated as a binomial distribution. Only the expected number of single photon sources are drawn, which are guaranteed to give one photon.\r\n",
    "Multi-spectra refers to this source type having a distribution function for the spectrum of each realization of the source type. So, all of the sources of this type in any given simulation could have different spectra. The spectral function should be of the form S(e, num_spectra, params), which should internally pull from some distribution to produce num_spectra different spectra of the form dN/dE. S should return a numpy array of dimensions (number of spectra)X(number of energy values).\r\n",
    "The als of this source type should be of the form [RL, S].\r\n",
    "\r\n",
    "isotropic_faint_single_spectrum:\r\n",
    "Isotropic refers to the abundance distribution having no angular dependance. Faint refers to sources with a low probability of a single photon hitting the detector. For this source type, the luminosity is allowed to depend on the radius. The abundance and lu^2minosity are determined by a single function dN/dRdL of the form RL(r, l, params). The benefit of this is that for a given (r, l) pair, the expected flux is known before source generation. For numerous but faint sources, this allows previously intractable source generation to become feasible. Sources are generated normally if the probability of getting 1 photon per source is greater than a parameter ε. Below this probability, the distribution of sources that either give 0 or 1 photon(s) is treated as a binomial distribution. Only the expected number of single photon sources are drawn, which are guaranteed to give one photon.\r\n",
    "Single spectrum refers to all realizations of this type having an identical spectrum. The spectral function dN/dE should be of the form S(e, params) and return a numpy array of length (number of energy values).\r\n",
    "The als his source type should be of the form [RL, S].\r\n",
    "\r\n"
   ]
  },
  {
   "cell_type": "markdown",
   "id": "5eb86eb4-f3d7-4b2b-84c3-86cc7ccff863",
   "metadata": {},
   "source": [
    "Our first source will be a simple member of the independent_spherical_single_spectrum class. First, its als is defined. Then, the als and source class are added to the AEGIS."
   ]
  },
  {
   "cell_type": "code",
   "execution_count": null,
   "id": "35049495-1fcd-4b7a-9350-2f4285149284",
   "metadata": {},
   "outputs": [],
   "source": [
    "def R_s(r, params):\n",
    "    A = params[0]\n",
    "    r_s = 1 #kpc\n",
    "    return A * np.exp(-r/r_s)\n",
    "\n",
    "def Theta_s(theta, params):\n",
    "    return np.ones(np.shape(theta))\n",
    "\n",
    "def Phi_s(phi, params):\n",
    "    return np.ones(np.shape(phi))\n",
    "\n",
    "def L(L, params):\n",
    "    L_b = 1.56e37/2.35 #photons/s\n",
    "    return np.exp(-1000*L/L_b)\n",
    "\n",
    "def spec(energy, params):\n",
    "    return np.ones(np.size(energy))\n",
    "\n",
    "als_s = [(R_s, Theta_s, Phi_s), L, spec]\n",
    "\n",
    "my_AEGIS.abun_lum_spec = [als_s]\n",
    "my_AEGIS.source_class_list = ['independent_spherical_single_spectrum']"
   ]
  },
  {
   "cell_type": "markdown",
   "id": "f64ebe2a-0903-4388-b45f-4f335605ef13",
   "metadata": {},
   "source": [
    "With a source now in our AEGIS, we can generate a realization of these sources, and the photons we detect from them. This is done by calling the AEGIS methods create_sources and generate_photons_from_sources, respectively. An optional argument in these methods is the grains parameter. It controls the number of bins in all arrays used to generate the data, i.e. the granularity.\r\n"
   ]
  },
  {
   "cell_type": "code",
   "execution_count": null,
   "id": "0b11ec56-30bc-4ef7-849e-77c5e123c381",
   "metadata": {},
   "outputs": [],
   "source": [
    "input_params = [10000]\n",
    "\n",
    "source_info = my_AEGIS.create_sources(input_params, grains = 10000)\n",
    "photon_info = my_AEGIS.generate_photons_from_sources(input_params, source_info)\n",
    "\n",
    "N_side = 2**6\n",
    "heatmap = np.histogram(hp.ang2pix(N_side, source_info['angles'][:,0], source_info['angles'][:,1]), bins = 12*N_side**2, range = [0, 12*N_side**2])\n",
    "hp.mollview(heatmap[0], title = 'Point Sources')\n",
    "\n",
    "heatmap = np.histogram(hp.ang2pix(N_side, photon_info['angles'][:,0], photon_info['angles'][:,1]), bins = 12*N_side**2, range = [0, 12*N_side**2])\n",
    "hp.mollview(heatmap[0], title = 'Photons')\n",
    "\n",
    "fig, ax = plt.subplots()\n",
    "ax.set_title('Photon Energies')\n",
    "ax.set_yscale('log')\n",
    "#ax.set_xscale('log')\n",
    "ax.set_ylabel('Number of Photons')\n",
    "ax.set_xlabel('Energy [MeV]')\n",
    "ax.hist(photon_info['energies'], bins = 30, range = energy_range_gen)\n",
    "\n",
    "print('Number of sources: ', np.size(source_info['distances']))\n",
    "print('Number of photons: ', np.size(photon_info['energies']))\n",
    "print('Average photon energy: ', np.mean(photon_info['energies'])/1000, ' GeV')\n",
    "print('Average luminosity/source: ', np.mean(source_info['luminosities'])*np.mean(photon_info['energies'])*u.MeV.to('erg'), r'$ erg s^{-1}$')\n",
    "print('Approximate Flux: ', np.mean(photon_info['energies'])*u.MeV.to('erg')*np.size(photon_info['energies'])/(exposure*u.yr.to('s')), r'$ erg cm^{-2}s^{-1}$')\n",
    "print('Size of pixels (deg):', hp.nside2resol(N_side)*u.rad.to('deg'))"
   ]
  },
  {
   "cell_type": "markdown",
   "id": "63294616-ff29-4819-b0c0-55d619ef64b2",
   "metadata": {},
   "source": [
    "Now, let's replace our previous source with a simple independent_cylindrical_single_spectrum source and regenerate the data"
   ]
  },
  {
   "cell_type": "code",
   "execution_count": null,
   "id": "ed4c567c-07ca-4f4d-b48c-38f67ba666e4",
   "metadata": {},
   "outputs": [],
   "source": [
    "def R_c(r, params):\n",
    "    A = params[0]\n",
    "    r_s = 3 #kpc\n",
    "    return A * np.exp(-r/r_s)\n",
    "\n",
    "def Z_c(z, params):\n",
    "    z_s = 3 #kpc\n",
    "    return np.exp(-np.abs(z)/z_s)\n",
    "\n",
    "def Phi_c(phi, params):\n",
    "    return np.ones(np.shape(phi))\n",
    "\n",
    "def L(L, params):\n",
    "    L_b = 1.56e37/2.35 #photons/s\n",
    "    return np.exp(-1000*L/L_b)\n",
    "\n",
    "def spec(energy, params):\n",
    "    return np.ones(np.size(energy))\n",
    "\n",
    "als_c = [(R_c, Z_c, Phi_c), L, spec]\n",
    "my_AEGIS.abun_lum_spec = [als_c]\n",
    "my_AEGIS.source_class_list = ['independent_cylindrical_single_spectrum']"
   ]
  },
  {
   "cell_type": "code",
   "execution_count": null,
   "id": "d1711772-dfaf-40ee-be00-1b952bf924e1",
   "metadata": {},
   "outputs": [],
   "source": [
    "input_params = [10000]\n",
    "\n",
    "source_info = my_AEGIS.create_sources(input_params, grains = 10000)\n",
    "photon_info = my_AEGIS.generate_photons_from_sources(input_params, source_info)\n",
    "\n",
    "N_side = 2**6\n",
    "heatmap = np.histogram(hp.ang2pix(N_side, source_info['angles'][:,0], source_info['angles'][:,1]), bins = 12*N_side**2, range = [0, 12*N_side**2])\n",
    "hp.mollview(heatmap[0], title = 'Point Sources')\n",
    "\n",
    "heatmap = np.histogram(hp.ang2pix(N_side, photon_info['angles'][:,0], photon_info['angles'][:,1]), bins = 12*N_side**2, range = [0, 12*N_side**2])\n",
    "hp.mollview(heatmap[0], title = 'Photons')\n",
    "\n",
    "fig, ax = plt.subplots()\n",
    "ax.set_title('Photon Energies')\n",
    "ax.set_yscale('log')\n",
    "#ax.set_xscale('log')\n",
    "ax.set_ylabel('Number of Photons')\n",
    "ax.set_xlabel('Energy [MeV]')\n",
    "ax.hist(photon_info['energies'], bins = 30, range = energy_range_gen)\n",
    "\n",
    "print('Number of sources: ', np.size(source_info['distances']))\n",
    "print('Number of photons: ', np.size(photon_info['energies']))\n",
    "print('Average photon energy: ', np.mean(photon_info['energies'])/1000, ' GeV')\n",
    "print('Average luminosity/source: ', np.mean(source_info['luminosities'])*np.mean(photon_info['energies'])*u.MeV.to('erg'), r'$ erg s^{-1}$')\n",
    "print('Approximate Flux: ', np.mean(photon_info['energies'])*u.MeV.to('erg')*np.size(photon_info['energies'])/(exposure*u.yr.to('s')), r'$ erg cm^{-2}s^{-1}$')\n",
    "print('Size of pixels (deg):', hp.nside2resol(N_side)*u.rad.to('deg'))"
   ]
  }
 ],
 "metadata": {
  "kernelspec": {
   "display_name": "env_healpy",
   "language": "python",
   "name": "env_healpy"
  },
  "language_info": {
   "codemirror_mode": {
    "name": "ipython",
    "version": 3
   },
   "file_extension": ".py",
   "mimetype": "text/x-python",
   "name": "python",
   "nbconvert_exporter": "python",
   "pygments_lexer": "ipython3",
   "version": "3.10.9"
  }
 },
 "nbformat": 4,
 "nbformat_minor": 5
}
